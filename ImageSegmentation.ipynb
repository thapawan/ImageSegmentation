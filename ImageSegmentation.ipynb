{
  "nbformat": 4,
  "nbformat_minor": 0,
  "metadata": {
    "colab": {
      "provenance": [],
      "authorship_tag": "ABX9TyNmfUeU35u3KvZIzJ8qD/53",
      "include_colab_link": true
    },
    "kernelspec": {
      "name": "python3",
      "display_name": "Python 3"
    },
    "language_info": {
      "name": "python"
    }
  },
  "cells": [
    {
      "cell_type": "markdown",
      "metadata": {
        "id": "view-in-github",
        "colab_type": "text"
      },
      "source": [
        "<a href=\"https://colab.research.google.com/github/thapawan/ImageSegmentation/blob/main/ImageSegmentation.ipynb\" target=\"_parent\"><img src=\"https://colab.research.google.com/assets/colab-badge.svg\" alt=\"Open In Colab\"/></a>"
      ]
    },
    {
      "cell_type": "code",
      "execution_count": null,
      "metadata": {
        "id": "F1pb9PE1eeWQ"
      },
      "outputs": [],
      "source": [
        "import numpy as np\n",
        "import tifffile as tiff\n",
        "import matplotlib.pyplot as plt\n",
        "from skimage.segmentation import flood, flood_fill\n",
        "from sklearn.cluster import KMeans\n",
        "\n",
        "def preprocess_landsat8(band3_path, band5_path):\n",
        "    # Load Landsat 8 Band 3 and Band 5 images\n",
        "    band3 = tiff.imread(band3_path)\n",
        "    band5 = tiff.imread(band5_path)\n",
        "    return band3, band5\n",
        "\n",
        "def calculate_nwi(band3, band5):\n",
        "    # Calculate Normalized Water Index (NWI)\n",
        "    nwi = np.true_divide((band3 - band5), (band3 + band5))\n",
        "    return nwi\n",
        "\n",
        "def region_growing(image, seed_point, num_clusters):\n",
        "    # Remove NaN values from the image\n",
        "    image[np.isnan(image)] = 0\n",
        "\n",
        "    # Perform K-means clustering on the image\n",
        "    flattened_image = image.reshape(-1, 1)\n",
        "    kmeans = KMeans(n_clusters=num_clusters, random_state=42)\n",
        "    kmeans.fit(flattened_image)\n",
        "    labels = kmeans.labels_.reshape(image.shape)\n",
        "\n",
        "    # Perform region growing starting from the seed point\n",
        "    filled = flood_fill(image, seed_point, new_value=255, connectivity=1, in_place=False)\n",
        "\n",
        "    # Get the mask of the region of interest based on the labeled clusters\n",
        "    mask = np.zeros_like(image, dtype=np.bool)\n",
        "    for label in np.unique(labels):\n",
        "        if label != 0:  # Exclude the background label\n",
        "            mask |= labels == label\n",
        "\n",
        "    # Apply the mask to the filled region\n",
        "    segmented_image = filled.copy()\n",
        "    segmented_image[~mask] = 0\n",
        "\n",
        "    return segmented_image\n",
        "\n",
        "# Example usage\n",
        "band3_path = '/content/L8_2022_B3.tif'  # Replace with the actual path to Landsat 8 Band 3\n",
        "band5_path = '/content/L8_2022_B5.tif'  # Replace with the actual path to Landsat 8 Band 5\n",
        "seed_point = (100, 100)  # Coordinates of the seed point\n",
        "num_clusters = 2  # Number of clusters for K-means\n",
        "threshold = 0.3  # Threshold value for binary image conversion\n",
        "\n",
        "# Preprocess Landsat 8 Band 3 and Band 5\n",
        "band3, band5 = preprocess_landsat8(band3_path, band5_path)\n",
        "\n",
        "# Calculate Normalized Water Index (NWI)\n",
        "nwi = calculate_nwi(band3, band5)\n",
        "\n",
        "# Display the NWI image\n",
        "plt.imshow(nwi, cmap='jet')\n",
        "plt.colorbar()\n",
        "plt.title('Normalized Water Index (NWI)')\n",
        "plt.show()\n",
        "\n",
        "# Convert NWI to a binary image using the threshold\n",
        "#binary_image = np.where(nwi >= threshold, 255, 0).astype(np.uint8)\n",
        "\n",
        "# Display the binary image\n",
        "##plt.title('Binary Image')\n",
        "#plt.show()\n",
        "\n",
        "\n",
        "# Apply the region growing algorithm to NWI\n",
        "segmented_image = region_growing(nwi, seed_point, num_clusters)\n",
        "#plt.imshow(segmented_image, cmap='gray', vmin=0, vmax=1)\n",
        "#plt.title('Segmented Image')\n",
        "#plt.axis('off')\n",
        "#plt.show()\n",
        "\n",
        "# Generate a binary image with water as 1 and other pixels as 0\n",
        "binary_image = np.zeros_like(segmented_image, dtype=np.uint8)\n",
        "binary_image[segmented_image > 0] = 1\n",
        "plt.imshow(binary_image)\n",
        "plt.title('Binary Image')\n",
        "plt.show()\n",
        "\n",
        "# Save the binary image as TIFF\n",
        "output_path = '/content/Segment_image5.tif'  # Replace with the desired output path\n",
        "tiff.imwrite(output_path, binary_image)"
      ]
    }
  ]
}